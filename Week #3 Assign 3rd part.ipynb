{
 "cells": [
  {
   "cell_type": "markdown",
   "metadata": {},
   "source": [
    "# Week 3 Project. Segmenting and Clustering Toronto.\n",
    "## Choosing the most suitable Neighbourhood."
   ]
  },
  {
   "cell_type": "markdown",
   "metadata": {},
   "source": [
    "### 1st. Importation of main libraries to the Jupiter Notebook.\n",
    "We will make the imports in various cells as the speed for connection is not always available."
   ]
  },
  {
   "cell_type": "code",
   "execution_count": 1,
   "metadata": {},
   "outputs": [],
   "source": [
    "import pandas as pd\n",
    "import numpy as np\n",
    "import urllib.request"
   ]
  },
  {
   "cell_type": "markdown",
   "metadata": {},
   "source": [
    "### 2nd. Importation of special libraries for visualization and coordinates"
   ]
  },
  {
   "cell_type": "code",
   "execution_count": 2,
   "metadata": {},
   "outputs": [
    {
     "name": "stdout",
     "output_type": "stream",
     "text": [
      "Solving environment: done\n",
      "\n",
      "\n",
      "==> WARNING: A newer version of conda exists. <==\n",
      "  current version: 4.5.11\n",
      "  latest version: 4.7.12\n",
      "\n",
      "Please update conda by running\n",
      "\n",
      "    $ conda update -n base -c defaults conda\n",
      "\n",
      "\n",
      "\n",
      "## Package Plan ##\n",
      "\n",
      "  environment location: /home/jupyterlab/conda/envs/python\n",
      "\n",
      "  added / updated specs: \n",
      "    - geopy\n",
      "\n",
      "\n",
      "The following packages will be downloaded:\n",
      "\n",
      "    package                    |            build\n",
      "    ---------------------------|-----------------\n",
      "    certifi-2019.11.28         |           py36_0         149 KB  conda-forge\n",
      "    scikit-learn-0.20.1        |   py36h22eb022_0         5.7 MB\n",
      "    liblapack-3.8.0            |      11_openblas          10 KB  conda-forge\n",
      "    scipy-1.3.2                |   py36h921218d_0        18.0 MB  conda-forge\n",
      "    geographiclib-1.50         |             py_0          34 KB  conda-forge\n",
      "    libopenblas-0.3.6          |       h5a2b251_2         7.7 MB\n",
      "    liblapacke-3.8.0           |      11_openblas          10 KB  conda-forge\n",
      "    numpy-1.17.3               |   py36h95a1406_0         5.2 MB  conda-forge\n",
      "    libcblas-3.8.0             |      11_openblas          10 KB  conda-forge\n",
      "    libblas-3.8.0              |      11_openblas          10 KB  conda-forge\n",
      "    geopy-1.20.0               |             py_0          57 KB  conda-forge\n",
      "    blas-2.11                  |         openblas          10 KB  conda-forge\n",
      "    ------------------------------------------------------------\n",
      "                                           Total:        36.9 MB\n",
      "\n",
      "The following NEW packages will be INSTALLED:\n",
      "\n",
      "    geographiclib: 1.50-py_0                              conda-forge\n",
      "    geopy:         1.20.0-py_0                            conda-forge\n",
      "    libblas:       3.8.0-11_openblas                      conda-forge\n",
      "    libcblas:      3.8.0-11_openblas                      conda-forge\n",
      "    liblapack:     3.8.0-11_openblas                      conda-forge\n",
      "    liblapacke:    3.8.0-11_openblas                      conda-forge\n",
      "    libopenblas:   0.3.6-h5a2b251_2                                  \n",
      "\n",
      "The following packages will be UPDATED:\n",
      "\n",
      "    blas:          1.1-openblas                           conda-forge --> 2.11-openblas         conda-forge\n",
      "    certifi:       2019.9.11-py36_0                       conda-forge --> 2019.11.28-py36_0     conda-forge\n",
      "    numpy:         1.16.2-py36_blas_openblash1522bff_0    conda-forge [blas_openblas] --> 1.17.3-py36h95a1406_0 conda-forge\n",
      "    scipy:         1.2.1-py36_blas_openblash1522bff_0     conda-forge [blas_openblas] --> 1.3.2-py36h921218d_0  conda-forge\n",
      "\n",
      "The following packages will be DOWNGRADED:\n",
      "\n",
      "    scikit-learn:  0.20.1-py36_blas_openblashebff5e3_1200 conda-forge [blas_openblas] --> 0.20.1-py36h22eb022_0            \n",
      "\n",
      "\n",
      "Downloading and Extracting Packages\n",
      "certifi-2019.11.28   | 149 KB    | ##################################### | 100% \n",
      "scikit-learn-0.20.1  | 5.7 MB    | ##################################### | 100% \n",
      "liblapack-3.8.0      | 10 KB     | ##################################### | 100% \n",
      "scipy-1.3.2          | 18.0 MB   | ##################################### | 100% \n",
      "geographiclib-1.50   | 34 KB     | ##################################### | 100% \n",
      "libopenblas-0.3.6    | 7.7 MB    | ##################################### | 100% \n",
      "liblapacke-3.8.0     | 10 KB     | ##################################### | 100% \n",
      "numpy-1.17.3         | 5.2 MB    | ##################################### | 100% \n",
      "libcblas-3.8.0       | 10 KB     | ##################################### | 100% \n",
      "libblas-3.8.0        | 10 KB     | ##################################### | 100% \n",
      "geopy-1.20.0         | 57 KB     | ##################################### | 100% \n",
      "blas-2.11            | 10 KB     | ##################################### | 100% \n",
      "Preparing transaction: done\n",
      "Verifying transaction: done\n",
      "Executing transaction: done\n"
     ]
    }
   ],
   "source": [
    "!conda install -c conda-forge geopy --yes #Needed to reinstall in order to work\n",
    "from geopy.geocoders import Nominatim\n",
    "import folium\n",
    "import requests"
   ]
  },
  {
   "cell_type": "code",
   "execution_count": 3,
   "metadata": {},
   "outputs": [],
   "source": [
    "from sklearn.cluster import KMeans\n",
    "import matplotlib.cm as cm\n",
    "import matplotlib.colors as colors"
   ]
  },
  {
   "cell_type": "markdown",
   "metadata": {},
   "source": [
    "### In part 2 of the assignment we exported the data to a CSV file in order to save steps on the 3rd part of it. So now we only have to import that data into a new dataframe."
   ]
  },
  {
   "cell_type": "code",
   "execution_count": 4,
   "metadata": {},
   "outputs": [],
   "source": [
    "dfCanadaNeigh = pd.read_csv(\"CanadaZIPCodeswithPosition.csv\")"
   ]
  },
  {
   "cell_type": "code",
   "execution_count": 6,
   "metadata": {},
   "outputs": [
    {
     "data": {
      "text/html": [
       "<div>\n",
       "<style scoped>\n",
       "    .dataframe tbody tr th:only-of-type {\n",
       "        vertical-align: middle;\n",
       "    }\n",
       "\n",
       "    .dataframe tbody tr th {\n",
       "        vertical-align: top;\n",
       "    }\n",
       "\n",
       "    .dataframe thead th {\n",
       "        text-align: right;\n",
       "    }\n",
       "</style>\n",
       "<table border=\"1\" class=\"dataframe\">\n",
       "  <thead>\n",
       "    <tr style=\"text-align: right;\">\n",
       "      <th></th>\n",
       "      <th>Unnamed: 0</th>\n",
       "      <th>Postcode</th>\n",
       "      <th>Borough</th>\n",
       "      <th>Neighbourhood</th>\n",
       "      <th>Latitude</th>\n",
       "      <th>Longitude</th>\n",
       "    </tr>\n",
       "  </thead>\n",
       "  <tbody>\n",
       "    <tr>\n",
       "      <th>0</th>\n",
       "      <td>0</td>\n",
       "      <td>M1B</td>\n",
       "      <td>Scarborough</td>\n",
       "      <td>Rouge, Malvern</td>\n",
       "      <td>43.806686</td>\n",
       "      <td>-79.194353</td>\n",
       "    </tr>\n",
       "    <tr>\n",
       "      <th>1</th>\n",
       "      <td>1</td>\n",
       "      <td>M1C</td>\n",
       "      <td>Scarborough</td>\n",
       "      <td>Highland Creek, Rouge Hill, Port Union</td>\n",
       "      <td>43.784535</td>\n",
       "      <td>-79.160497</td>\n",
       "    </tr>\n",
       "    <tr>\n",
       "      <th>2</th>\n",
       "      <td>2</td>\n",
       "      <td>M1E</td>\n",
       "      <td>Scarborough</td>\n",
       "      <td>Guildwood, Morningside, West Hill</td>\n",
       "      <td>43.763573</td>\n",
       "      <td>-79.188711</td>\n",
       "    </tr>\n",
       "    <tr>\n",
       "      <th>3</th>\n",
       "      <td>3</td>\n",
       "      <td>M1G</td>\n",
       "      <td>Scarborough</td>\n",
       "      <td>Woburn</td>\n",
       "      <td>43.770992</td>\n",
       "      <td>-79.216917</td>\n",
       "    </tr>\n",
       "    <tr>\n",
       "      <th>4</th>\n",
       "      <td>4</td>\n",
       "      <td>M1H</td>\n",
       "      <td>Scarborough</td>\n",
       "      <td>Cedarbrae</td>\n",
       "      <td>43.773136</td>\n",
       "      <td>-79.239476</td>\n",
       "    </tr>\n",
       "    <tr>\n",
       "      <th>...</th>\n",
       "      <td>...</td>\n",
       "      <td>...</td>\n",
       "      <td>...</td>\n",
       "      <td>...</td>\n",
       "      <td>...</td>\n",
       "      <td>...</td>\n",
       "    </tr>\n",
       "    <tr>\n",
       "      <th>98</th>\n",
       "      <td>98</td>\n",
       "      <td>M9N</td>\n",
       "      <td>York</td>\n",
       "      <td>Weston</td>\n",
       "      <td>43.706876</td>\n",
       "      <td>-79.518188</td>\n",
       "    </tr>\n",
       "    <tr>\n",
       "      <th>99</th>\n",
       "      <td>99</td>\n",
       "      <td>M9P</td>\n",
       "      <td>Etobicoke</td>\n",
       "      <td>Westmount</td>\n",
       "      <td>43.696319</td>\n",
       "      <td>-79.532242</td>\n",
       "    </tr>\n",
       "    <tr>\n",
       "      <th>100</th>\n",
       "      <td>100</td>\n",
       "      <td>M9R</td>\n",
       "      <td>Etobicoke</td>\n",
       "      <td>Kingsview Village, Martin Grove Gardens, Richv...</td>\n",
       "      <td>43.688905</td>\n",
       "      <td>-79.554724</td>\n",
       "    </tr>\n",
       "    <tr>\n",
       "      <th>101</th>\n",
       "      <td>101</td>\n",
       "      <td>M9V</td>\n",
       "      <td>Etobicoke</td>\n",
       "      <td>Albion Gardens, Beaumond Heights, Humbergate, ...</td>\n",
       "      <td>43.739416</td>\n",
       "      <td>-79.588437</td>\n",
       "    </tr>\n",
       "    <tr>\n",
       "      <th>102</th>\n",
       "      <td>102</td>\n",
       "      <td>M9W</td>\n",
       "      <td>Etobicoke</td>\n",
       "      <td>Northwest</td>\n",
       "      <td>43.706748</td>\n",
       "      <td>-79.594054</td>\n",
       "    </tr>\n",
       "  </tbody>\n",
       "</table>\n",
       "<p>103 rows × 6 columns</p>\n",
       "</div>"
      ],
      "text/plain": [
       "     Unnamed: 0 Postcode      Borough  \\\n",
       "0             0      M1B  Scarborough   \n",
       "1             1      M1C  Scarborough   \n",
       "2             2      M1E  Scarborough   \n",
       "3             3      M1G  Scarborough   \n",
       "4             4      M1H  Scarborough   \n",
       "..          ...      ...          ...   \n",
       "98           98      M9N         York   \n",
       "99           99      M9P    Etobicoke   \n",
       "100         100      M9R    Etobicoke   \n",
       "101         101      M9V    Etobicoke   \n",
       "102         102      M9W    Etobicoke   \n",
       "\n",
       "                                         Neighbourhood   Latitude  Longitude  \n",
       "0                                       Rouge, Malvern  43.806686 -79.194353  \n",
       "1               Highland Creek, Rouge Hill, Port Union  43.784535 -79.160497  \n",
       "2                    Guildwood, Morningside, West Hill  43.763573 -79.188711  \n",
       "3                                               Woburn  43.770992 -79.216917  \n",
       "4                                            Cedarbrae  43.773136 -79.239476  \n",
       "..                                                 ...        ...        ...  \n",
       "98                                              Weston  43.706876 -79.518188  \n",
       "99                                           Westmount  43.696319 -79.532242  \n",
       "100  Kingsview Village, Martin Grove Gardens, Richv...  43.688905 -79.554724  \n",
       "101  Albion Gardens, Beaumond Heights, Humbergate, ...  43.739416 -79.588437  \n",
       "102                                          Northwest  43.706748 -79.594054  \n",
       "\n",
       "[103 rows x 6 columns]"
      ]
     },
     "execution_count": 6,
     "metadata": {},
     "output_type": "execute_result"
    }
   ],
   "source": [
    "dfCanadaNeigh"
   ]
  },
  {
   "cell_type": "markdown",
   "metadata": {},
   "source": [
    "## Getting Connected to Foursquare to retrieve data"
   ]
  },
  {
   "cell_type": "code",
   "execution_count": 7,
   "metadata": {},
   "outputs": [
    {
     "name": "stdout",
     "output_type": "stream",
     "text": [
      "Your credentails:\n",
      "CLIENT_ID: P5OUT2CRIK14KOBJ3KOMSQ4C3CCAYGLSJIGB1DNNHD5JJU5P\n",
      "CLIENT_SECRET:ZP1XXJGAVE3CYMRIJSNKZJNFJ1RI4ABDQ5WX0SD0MUVPVIP5\n"
     ]
    }
   ],
   "source": [
    "CLIENT_ID = 'P5OUT2CRIK14KOBJ3KOMSQ4C3CCAYGLSJIGB1DNNHD5JJU5P'\n",
    "CLIENT_SECRET ='ZP1XXJGAVE3CYMRIJSNKZJNFJ1RI4ABDQ5WX0SD0MUVPVIP5'\n",
    "VERSION = '20180604'\n",
    "LIMIT = 30\n",
    "print('Your credentails:')\n",
    "print('CLIENT_ID: ' + CLIENT_ID)\n",
    "print('CLIENT_SECRET:' + CLIENT_SECRET)"
   ]
  },
  {
   "cell_type": "markdown",
   "metadata": {},
   "source": [
    "### Now as seen on previous practices we have to create a function to retrieve the data from FourSquare, that will be the venues for each neighbourhood."
   ]
  },
  {
   "cell_type": "code",
   "execution_count": 8,
   "metadata": {},
   "outputs": [],
   "source": [
    "def getNearbyVenues(names, latitudes, longitudes, radius=500):\n",
    "    \n",
    "    venues_list=[]\n",
    "    for name, lat, lng in zip(names, latitudes, longitudes):\n",
    "        print(name)\n",
    "            \n",
    "        # create the API request URL\n",
    "        url = 'https://api.foursquare.com/v2/venues/explore?&client_id={}&client_secret={}&v={}&ll={},{}&radius={}&limit={}'.format(\n",
    "            CLIENT_ID, \n",
    "            CLIENT_SECRET, \n",
    "            VERSION, \n",
    "            lat, \n",
    "            lng, \n",
    "            radius, \n",
    "            LIMIT)\n",
    "            \n",
    "        # make the GET request\n",
    "        results = requests.get(url).json()[\"response\"]['groups'][0]['items']\n",
    "        \n",
    "        # return only relevant information for each nearby venue\n",
    "        venues_list.append([(\n",
    "            name, \n",
    "            lat, \n",
    "            lng, \n",
    "            v['venue']['name'], \n",
    "            v['venue']['location']['lat'], \n",
    "            v['venue']['location']['lng'],  \n",
    "            v['venue']['categories'][0]['name']) for v in results])\n",
    "\n",
    "    nearby_venues = pd.DataFrame([item for venue_list in venues_list for item in venue_list])\n",
    "    nearby_venues.columns = ['Neighborhood', \n",
    "                  'Neighborhood Latitude', \n",
    "                  'Neighborhood Longitude', \n",
    "                  'Venue', \n",
    "                  'Venue Latitude', \n",
    "                  'Venue Longitude', \n",
    "                  'Venue Category']\n",
    "    \n",
    "    return(nearby_venues)"
   ]
  },
  {
   "cell_type": "markdown",
   "metadata": {},
   "source": [
    "### Now we run the function for a Neighbourhood in Toronto (York)"
   ]
  },
  {
   "cell_type": "code",
   "execution_count": 40,
   "metadata": {},
   "outputs": [
    {
     "data": {
      "text/html": [
       "<div>\n",
       "<style scoped>\n",
       "    .dataframe tbody tr th:only-of-type {\n",
       "        vertical-align: middle;\n",
       "    }\n",
       "\n",
       "    .dataframe tbody tr th {\n",
       "        vertical-align: top;\n",
       "    }\n",
       "\n",
       "    .dataframe thead th {\n",
       "        text-align: right;\n",
       "    }\n",
       "</style>\n",
       "<table border=\"1\" class=\"dataframe\">\n",
       "  <thead>\n",
       "    <tr style=\"text-align: right;\">\n",
       "      <th></th>\n",
       "      <th>Unnamed: 0</th>\n",
       "      <th>Postcode</th>\n",
       "      <th>Borough</th>\n",
       "      <th>Neighbourhood</th>\n",
       "      <th>Latitude</th>\n",
       "      <th>Longitude</th>\n",
       "    </tr>\n",
       "  </thead>\n",
       "  <tbody>\n",
       "    <tr>\n",
       "      <th>0</th>\n",
       "      <td>50</td>\n",
       "      <td>M4W</td>\n",
       "      <td>Downtown Toronto</td>\n",
       "      <td>Rosedale</td>\n",
       "      <td>43.679563</td>\n",
       "      <td>-79.377529</td>\n",
       "    </tr>\n",
       "    <tr>\n",
       "      <th>1</th>\n",
       "      <td>51</td>\n",
       "      <td>M4X</td>\n",
       "      <td>Downtown Toronto</td>\n",
       "      <td>Cabbagetown, St. James Town</td>\n",
       "      <td>43.667967</td>\n",
       "      <td>-79.367675</td>\n",
       "    </tr>\n",
       "    <tr>\n",
       "      <th>2</th>\n",
       "      <td>52</td>\n",
       "      <td>M4Y</td>\n",
       "      <td>Downtown Toronto</td>\n",
       "      <td>Church and Wellesley</td>\n",
       "      <td>43.665860</td>\n",
       "      <td>-79.383160</td>\n",
       "    </tr>\n",
       "    <tr>\n",
       "      <th>3</th>\n",
       "      <td>53</td>\n",
       "      <td>M5A</td>\n",
       "      <td>Downtown Toronto</td>\n",
       "      <td>Harbourfront</td>\n",
       "      <td>43.654260</td>\n",
       "      <td>-79.360636</td>\n",
       "    </tr>\n",
       "    <tr>\n",
       "      <th>4</th>\n",
       "      <td>54</td>\n",
       "      <td>M5B</td>\n",
       "      <td>Downtown Toronto</td>\n",
       "      <td>Ryerson, Garden District</td>\n",
       "      <td>43.657162</td>\n",
       "      <td>-79.378937</td>\n",
       "    </tr>\n",
       "    <tr>\n",
       "      <th>...</th>\n",
       "      <td>...</td>\n",
       "      <td>...</td>\n",
       "      <td>...</td>\n",
       "      <td>...</td>\n",
       "      <td>...</td>\n",
       "      <td>...</td>\n",
       "    </tr>\n",
       "    <tr>\n",
       "      <th>0</th>\n",
       "      <td>35</td>\n",
       "      <td>M4B</td>\n",
       "      <td>East York</td>\n",
       "      <td>Woodbine Gardens, Parkview Hill</td>\n",
       "      <td>43.706397</td>\n",
       "      <td>-79.309937</td>\n",
       "    </tr>\n",
       "    <tr>\n",
       "      <th>1</th>\n",
       "      <td>36</td>\n",
       "      <td>M4C</td>\n",
       "      <td>East York</td>\n",
       "      <td>Woodbine Heights</td>\n",
       "      <td>43.695344</td>\n",
       "      <td>-79.318389</td>\n",
       "    </tr>\n",
       "    <tr>\n",
       "      <th>2</th>\n",
       "      <td>38</td>\n",
       "      <td>M4G</td>\n",
       "      <td>East York</td>\n",
       "      <td>Leaside</td>\n",
       "      <td>43.709060</td>\n",
       "      <td>-79.363452</td>\n",
       "    </tr>\n",
       "    <tr>\n",
       "      <th>3</th>\n",
       "      <td>39</td>\n",
       "      <td>M4H</td>\n",
       "      <td>East York</td>\n",
       "      <td>Thorncliffe Park</td>\n",
       "      <td>43.705369</td>\n",
       "      <td>-79.349372</td>\n",
       "    </tr>\n",
       "    <tr>\n",
       "      <th>4</th>\n",
       "      <td>40</td>\n",
       "      <td>M4J</td>\n",
       "      <td>East York</td>\n",
       "      <td>East Toronto</td>\n",
       "      <td>43.685347</td>\n",
       "      <td>-79.338106</td>\n",
       "    </tr>\n",
       "  </tbody>\n",
       "</table>\n",
       "<p>75 rows × 6 columns</p>\n",
       "</div>"
      ],
      "text/plain": [
       "    Unnamed: 0 Postcode           Borough                    Neighbourhood  \\\n",
       "0           50      M4W  Downtown Toronto                         Rosedale   \n",
       "1           51      M4X  Downtown Toronto      Cabbagetown, St. James Town   \n",
       "2           52      M4Y  Downtown Toronto             Church and Wellesley   \n",
       "3           53      M5A  Downtown Toronto                     Harbourfront   \n",
       "4           54      M5B  Downtown Toronto         Ryerson, Garden District   \n",
       "..         ...      ...               ...                              ...   \n",
       "0           35      M4B         East York  Woodbine Gardens, Parkview Hill   \n",
       "1           36      M4C         East York                 Woodbine Heights   \n",
       "2           38      M4G         East York                          Leaside   \n",
       "3           39      M4H         East York                 Thorncliffe Park   \n",
       "4           40      M4J         East York                     East Toronto   \n",
       "\n",
       "     Latitude  Longitude  \n",
       "0   43.679563 -79.377529  \n",
       "1   43.667967 -79.367675  \n",
       "2   43.665860 -79.383160  \n",
       "3   43.654260 -79.360636  \n",
       "4   43.657162 -79.378937  \n",
       "..        ...        ...  \n",
       "0   43.706397 -79.309937  \n",
       "1   43.695344 -79.318389  \n",
       "2   43.709060 -79.363452  \n",
       "3   43.705369 -79.349372  \n",
       "4   43.685347 -79.338106  \n",
       "\n",
       "[75 rows x 6 columns]"
      ]
     },
     "execution_count": 40,
     "metadata": {},
     "output_type": "execute_result"
    }
   ],
   "source": [
    "#dfToronto=dfCanadaNeigh[dfCanadaNeigh['Borough']=='East York'].reset_index(drop=True)\n",
    "#dfToronto=dfCanadaNeigh.loc[~((dfCanadaNeigh['Borough']=='East York')  & (dfCanadaNeigh['Borough']=='Scarborough'))].reset_index(drop=True)\n",
    "# & (dfCanadaNeigh['Borough']=='North York') & (dfCanadaNeigh['Borough']=='Etobicoke')& (dfCanadaNeigh['Borough']=='Downtown Toronto')\n",
    "dfEastYork=dfCanadaNeigh[dfCanadaNeigh['Borough']=='East York'].reset_index(drop=True)\n",
    "dfNorthYork=dfCanadaNeigh[dfCanadaNeigh['Borough']=='North York'].reset_index(drop=True)\n",
    "dfEtobicoke=dfCanadaNeigh[dfCanadaNeigh['Borough']=='Etobicoke'].reset_index(drop=True)\n",
    "dfScarborough=dfCanadaNeigh[dfCanadaNeigh['Borough']=='Scarborough'].reset_index(drop=True)\n",
    "dfDTownToronto=dfCanadaNeigh[dfCanadaNeigh['Borough']=='Downtown Toronto'].reset_index(drop=True)\n",
    "dfToronto=dfDTownToronto\n",
    "dfToronto=dfToronto.append(dfScarborough)\n",
    "dfToronto=dfToronto.append(dfEtobicoke)\n",
    "dfToronto=dfToronto.append(dfNorthYork)\n",
    "dfToronto=dfToronto.append(dfEastYork)\n",
    "dfToronto"
   ]
  },
  {
   "cell_type": "code",
   "execution_count": 45,
   "metadata": {
    "collapsed": true,
    "jupyter": {
     "outputs_hidden": true
    }
   },
   "outputs": [
    {
     "name": "stdout",
     "output_type": "stream",
     "text": [
      "Rosedale\n",
      "Cabbagetown, St. James Town\n",
      "Church and Wellesley\n",
      "Harbourfront\n",
      "Ryerson, Garden District\n",
      "St. James Town\n",
      "Berczy Park\n",
      "Central Bay Street\n",
      "Adelaide, King, Richmond\n",
      "Harbourfront East, Toronto Islands, Union Station\n",
      "Design Exchange, Toronto Dominion Centre\n",
      "Commerce Court, Victoria Hotel\n",
      "Harbord, University of Toronto\n",
      "Chinatown, Grange Park, Kensington Market\n",
      "CN Tower, Bathurst Quay, Island airport, Harbourfront West, King and Spadina, Railway Lands, South Niagara\n",
      "Stn A PO Boxes 25 The Esplanade\n",
      "First Canadian Place, Underground city\n",
      "Christie\n",
      "Rouge, Malvern\n",
      "Highland Creek, Rouge Hill, Port Union\n",
      "Guildwood, Morningside, West Hill\n",
      "Woburn\n",
      "Cedarbrae\n",
      "Scarborough Village\n",
      "East Birchmount Park, Ionview, Kennedy Park\n",
      "Clairlea, Golden Mile, Oakridge\n",
      "Cliffcrest, Cliffside, Scarborough Village West\n",
      "Birch Cliff, Cliffside West\n",
      "Dorset Park, Scarborough Town Centre, Wexford Heights\n",
      "Maryvale, Wexford\n",
      "Agincourt\n",
      "Clarks Corners, Sullivan, \"Tam OShanter\"\n",
      "Agincourt North, \"LAmoreaux East\", Milliken, Steeles East\n",
      "\"LAmoreaux West\"\n",
      "Upper Rouge\n",
      "Humber Bay Shores, Mimico South, New Toronto\n",
      "Alderwood, Long Branch\n",
      "The Kingsway, Montgomery Road, Old Mill North\n",
      "Humber Bay, \"Kings Mill Park\", Kingsway Park South East, Mimico NE, Old Mill South, The Queensway East, Royal York South East, Sunnylea\n",
      "Kingsway Park South West, Mimico NW, The Queensway West, Royal York South West, South of Bloor\n",
      "Cloverdale, Islington, Martin Grove, Princess Gardens, West Deane Park\n",
      "Bloordale Gardens, Eringate, Markland Wood, Old Burnhamthorpe\n",
      "Westmount\n",
      "Kingsview Village, Martin Grove Gardens, Richview Gardens, St. Phillips\n",
      "Albion Gardens, Beaumond Heights, Humbergate, Jamestown, Mount Olive, Silverstone, South Steeles, Thistletown\n",
      "Northwest\n",
      "Hillcrest Village\n",
      "Fairview, Henry Farm, Oriole\n",
      "Bayview Village\n",
      "Silver Hills, York Mills\n",
      "Newtonbrook, Willowdale\n",
      "Willowdale South\n",
      "York Mills West\n",
      "Willowdale West\n",
      "Parkwoods\n",
      "Don Mills North\n",
      "Flemingdon Park, Don Mills South\n",
      "Bathurst Manor, Downsview North, Wilson Heights\n",
      "Northwood Park, York University\n",
      "CFB Toronto, Downsview East\n",
      "Downsview West\n",
      "Downsview Central\n",
      "Downsview Northwest\n",
      "Victoria Village\n",
      "Bedford Park, Lawrence Manor East\n",
      "Lawrence Heights, Lawrence Manor\n",
      "Glencairn\n",
      "Downsview, North Park, Upwood Park\n",
      "Humber Summit\n",
      "Emery, Humberlea\n",
      "Woodbine Gardens, Parkview Hill\n",
      "Woodbine Heights\n",
      "Leaside\n",
      "Thorncliffe Park\n",
      "East Toronto\n"
     ]
    },
    {
     "ename": "TypeError",
     "evalue": "'DataFrame' object is not callable",
     "output_type": "error",
     "traceback": [
      "\u001b[0;31m---------------------------------------------------------------------------\u001b[0m",
      "\u001b[0;31mTypeError\u001b[0m                                 Traceback (most recent call last)",
      "\u001b[0;32m<ipython-input-45-99e7e9c13247>\u001b[0m in \u001b[0;36m<module>\u001b[0;34m\u001b[0m\n\u001b[1;32m      3\u001b[0m                                    \u001b[0mlongitudes\u001b[0m\u001b[0;34m=\u001b[0m\u001b[0mdfToronto\u001b[0m\u001b[0;34m[\u001b[0m\u001b[0;34m'Longitude'\u001b[0m\u001b[0;34m]\u001b[0m\u001b[0;34m\u001b[0m\u001b[0;34m\u001b[0m\u001b[0m\n\u001b[1;32m      4\u001b[0m                                   )\n\u001b[0;32m----> 5\u001b[0;31m \u001b[0mtoronto_venues\u001b[0m\u001b[0;34m(\u001b[0m\u001b[0;34m)\u001b[0m\u001b[0;34m\u001b[0m\u001b[0;34m\u001b[0m\u001b[0m\n\u001b[0m",
      "\u001b[0;31mTypeError\u001b[0m: 'DataFrame' object is not callable"
     ]
    }
   ],
   "source": [
    "toronto_venues = getNearbyVenues(names=dfToronto['Neighbourhood'],\n",
    "                                   latitudes=dfToronto['Latitude'],\n",
    "                                   longitudes=dfToronto['Longitude']\n",
    "                                  )\n",
    "toronto_venues()\n"
   ]
  },
  {
   "cell_type": "markdown",
   "metadata": {},
   "source": [
    "## Now we create the Map for York(Toronto) as in previous lessons"
   ]
  },
  {
   "cell_type": "code",
   "execution_count": 46,
   "metadata": {},
   "outputs": [
    {
     "name": "stdout",
     "output_type": "stream",
     "text": [
      "The geograpical coordinate of Toronto are 43.653963, -79.387207.\n"
     ]
    }
   ],
   "source": [
    "address = 'Toronto'\n",
    "\n",
    "geolocator = Nominatim(user_agent=\"my_application\")\n",
    "location = geolocator.geocode(address)\n",
    "latitude = location.latitude\n",
    "longitude = location.longitude\n",
    "print('The geograpical coordinate of Toronto are {}, {}.'.format(latitude, longitude))"
   ]
  },
  {
   "cell_type": "code",
   "execution_count": 47,
   "metadata": {},
   "outputs": [
    {
     "data": {
      "text/html": [
       "<div style=\"width:100%;\"><div style=\"position:relative;width:100%;height:0;padding-bottom:60%;\"><iframe src=\"data:text/html;charset=utf-8;base64,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\" style=\"position:absolute;width:100%;height:100%;left:0;top:0;border:none !important;\" allowfullscreen webkitallowfullscreen mozallowfullscreen></iframe></div></div>"
      ],
      "text/plain": [
       "<folium.folium.Map at 0x7f901ec466d8>"
      ]
     },
     "execution_count": 47,
     "metadata": {},
     "output_type": "execute_result"
    }
   ],
   "source": [
    "# create map of Toronto using latitude and longitude values\n",
    "map_of_york = folium.Map(location=[latitude, longitude], zoom_start=12)    \n",
    "map_of_york\n"
   ]
  },
  {
   "cell_type": "markdown",
   "metadata": {},
   "source": [
    "## and now we will see the hotspot(venues) per neighbourghood, crossing the map with the dfToronto venues"
   ]
  },
  {
   "cell_type": "code",
   "execution_count": 49,
   "metadata": {},
   "outputs": [
    {
     "data": {
      "text/html": [
       "<div style=\"width:100%;\"><div style=\"position:relative;width:100%;height:0;padding-bottom:60%;\"><iframe src=\"data:text/html;charset=utf-8;base64,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\" style=\"position:absolute;width:100%;height:100%;left:0;top:0;border:none !important;\" allowfullscreen webkitallowfullscreen mozallowfullscreen></iframe></div></div>"
      ],
      "text/plain": [
       "<folium.folium.Map at 0x7f901ec466d8>"
      ]
     },
     "execution_count": 49,
     "metadata": {},
     "output_type": "execute_result"
    }
   ],
   "source": [
    "for lat, lng, borough in zip(dfToronto['Latitude'], dfToronto['Longitude'], dfToronto['Borough']):\n",
    "    label = '{}'.format(borough)\n",
    "    label = folium.Popup(label)\n",
    "    folium.CircleMarker(\n",
    "        [lat, lng],\n",
    "        radius=5,\n",
    "        popup=label,\n",
    "        color='blue',\n",
    "        fill=True,\n",
    "        fill_color='#3186cc'\n",
    "       ).add_to(map_of_york)\n",
    "\n",
    "map_of_york"
   ]
  },
  {
   "cell_type": "code",
   "execution_count": null,
   "metadata": {},
   "outputs": [],
   "source": []
  },
  {
   "cell_type": "code",
   "execution_count": null,
   "metadata": {},
   "outputs": [],
   "source": []
  }
 ],
 "metadata": {
  "kernelspec": {
   "display_name": "Python",
   "language": "python",
   "name": "conda-env-python-py"
  },
  "language_info": {
   "codemirror_mode": {
    "name": "ipython",
    "version": 3
   },
   "file_extension": ".py",
   "mimetype": "text/x-python",
   "name": "python",
   "nbconvert_exporter": "python",
   "pygments_lexer": "ipython3",
   "version": "3.6.7"
  }
 },
 "nbformat": 4,
 "nbformat_minor": 4
}
